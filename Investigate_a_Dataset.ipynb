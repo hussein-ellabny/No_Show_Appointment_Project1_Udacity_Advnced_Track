{
 "cells": [
  {
   "cell_type": "markdown",
   "metadata": {
    "slideshow": {
     "slide_type": "slide"
    }
   },
   "source": [
    "\n",
    "\n",
    "# Project: Investigate a Dataset (No-show appointments in Brazil!)\n",
    "\n",
    "## Table of Contents\n",
    "<ul>\n",
    "<li><a href=\"#intro\">Introduction</a></li>\n",
    "<li><a href=\"#wrangling\">Data Wrangling</a></li>\n",
    "<li><a href=\"#eda\">Exploratory Data Analysis</a></li>\n",
    "<li><a href=\"#conclusions\">Conclusions</a></li>\n",
    "</ul>"
   ]
  },
  {
   "cell_type": "markdown",
   "metadata": {
    "slideshow": {
     "slide_type": "slide"
    }
   },
   "source": [
    "<a id='intro'></a>\n",
    "## Introduction\n",
    "\n",
    "### No-show appointments in Brazil!\n",
    "\n",
    "> This dataset collects information from 100k medical appointments in Brazil and is focused on the question of whether or not patients show up for their appointment. A number of characteristics about the patient are included in each row.  \n",
    "● ‘ScheduledDay’ tells us on what day the patient set up their appointment.  \n",
    "● ‘Neighborhood’ indicates the location of the hospital.  \n",
    "● ‘Scholarship’ indicates whether or not the patient is enrolled in Brasilian welfare program Bolsa Família. \n",
    "#### Note : Yes = No-show      \n",
    " -----\n",
    "  \n",
    "  \n",
    "\n"
   ]
  },
  {
   "cell_type": "code",
   "execution_count": 1,
   "metadata": {
    "slideshow": {
     "slide_type": "skip"
    }
   },
   "outputs": [],
   "source": [
    "import pandas as pd\n",
    "import numpy as np\n",
    "import matplotlib.pyplot as plt\n",
    "import seaborn as sns\n",
    "%matplotlib inline\n",
    "sns.set()"
   ]
  },
  {
   "cell_type": "markdown",
   "metadata": {
    "slideshow": {
     "slide_type": "slide"
    }
   },
   "source": [
    "<a id='wrangling'></a>\n",
    "## Data Wrangling\n",
    "\n",
    "### General Properties"
   ]
  },
  {
   "cell_type": "code",
   "execution_count": 2,
   "metadata": {
    "slideshow": {
     "slide_type": "skip"
    }
   },
   "outputs": [
    {
     "data": {
      "text/html": [
       "<div>\n",
       "<style scoped>\n",
       "    .dataframe tbody tr th:only-of-type {\n",
       "        vertical-align: middle;\n",
       "    }\n",
       "\n",
       "    .dataframe tbody tr th {\n",
       "        vertical-align: top;\n",
       "    }\n",
       "\n",
       "    .dataframe thead th {\n",
       "        text-align: right;\n",
       "    }\n",
       "</style>\n",
       "<table border=\"1\" class=\"dataframe\">\n",
       "  <thead>\n",
       "    <tr style=\"text-align: right;\">\n",
       "      <th></th>\n",
       "      <th>PatientId</th>\n",
       "      <th>AppointmentID</th>\n",
       "      <th>Gender</th>\n",
       "      <th>ScheduledDay</th>\n",
       "      <th>AppointmentDay</th>\n",
       "      <th>Age</th>\n",
       "      <th>Neighbourhood</th>\n",
       "      <th>Scholarship</th>\n",
       "      <th>Hipertension</th>\n",
       "      <th>Diabetes</th>\n",
       "      <th>Alcoholism</th>\n",
       "      <th>Handcap</th>\n",
       "      <th>SMS_received</th>\n",
       "      <th>No-show</th>\n",
       "    </tr>\n",
       "  </thead>\n",
       "  <tbody>\n",
       "    <tr>\n",
       "      <th>0</th>\n",
       "      <td>2.987250e+13</td>\n",
       "      <td>5642903</td>\n",
       "      <td>F</td>\n",
       "      <td>2016-04-29T18:38:08Z</td>\n",
       "      <td>2016-04-29T00:00:00Z</td>\n",
       "      <td>62</td>\n",
       "      <td>JARDIM DA PENHA</td>\n",
       "      <td>0</td>\n",
       "      <td>1</td>\n",
       "      <td>0</td>\n",
       "      <td>0</td>\n",
       "      <td>0</td>\n",
       "      <td>0</td>\n",
       "      <td>No</td>\n",
       "    </tr>\n",
       "    <tr>\n",
       "      <th>1</th>\n",
       "      <td>5.589978e+14</td>\n",
       "      <td>5642503</td>\n",
       "      <td>M</td>\n",
       "      <td>2016-04-29T16:08:27Z</td>\n",
       "      <td>2016-04-29T00:00:00Z</td>\n",
       "      <td>56</td>\n",
       "      <td>JARDIM DA PENHA</td>\n",
       "      <td>0</td>\n",
       "      <td>0</td>\n",
       "      <td>0</td>\n",
       "      <td>0</td>\n",
       "      <td>0</td>\n",
       "      <td>0</td>\n",
       "      <td>No</td>\n",
       "    </tr>\n",
       "    <tr>\n",
       "      <th>2</th>\n",
       "      <td>4.262962e+12</td>\n",
       "      <td>5642549</td>\n",
       "      <td>F</td>\n",
       "      <td>2016-04-29T16:19:04Z</td>\n",
       "      <td>2016-04-29T00:00:00Z</td>\n",
       "      <td>62</td>\n",
       "      <td>MATA DA PRAIA</td>\n",
       "      <td>0</td>\n",
       "      <td>0</td>\n",
       "      <td>0</td>\n",
       "      <td>0</td>\n",
       "      <td>0</td>\n",
       "      <td>0</td>\n",
       "      <td>No</td>\n",
       "    </tr>\n",
       "    <tr>\n",
       "      <th>3</th>\n",
       "      <td>8.679512e+11</td>\n",
       "      <td>5642828</td>\n",
       "      <td>F</td>\n",
       "      <td>2016-04-29T17:29:31Z</td>\n",
       "      <td>2016-04-29T00:00:00Z</td>\n",
       "      <td>8</td>\n",
       "      <td>PONTAL DE CAMBURI</td>\n",
       "      <td>0</td>\n",
       "      <td>0</td>\n",
       "      <td>0</td>\n",
       "      <td>0</td>\n",
       "      <td>0</td>\n",
       "      <td>0</td>\n",
       "      <td>No</td>\n",
       "    </tr>\n",
       "    <tr>\n",
       "      <th>4</th>\n",
       "      <td>8.841186e+12</td>\n",
       "      <td>5642494</td>\n",
       "      <td>F</td>\n",
       "      <td>2016-04-29T16:07:23Z</td>\n",
       "      <td>2016-04-29T00:00:00Z</td>\n",
       "      <td>56</td>\n",
       "      <td>JARDIM DA PENHA</td>\n",
       "      <td>0</td>\n",
       "      <td>1</td>\n",
       "      <td>1</td>\n",
       "      <td>0</td>\n",
       "      <td>0</td>\n",
       "      <td>0</td>\n",
       "      <td>No</td>\n",
       "    </tr>\n",
       "  </tbody>\n",
       "</table>\n",
       "</div>"
      ],
      "text/plain": [
       "      PatientId  AppointmentID Gender          ScheduledDay  \\\n",
       "0  2.987250e+13        5642903      F  2016-04-29T18:38:08Z   \n",
       "1  5.589978e+14        5642503      M  2016-04-29T16:08:27Z   \n",
       "2  4.262962e+12        5642549      F  2016-04-29T16:19:04Z   \n",
       "3  8.679512e+11        5642828      F  2016-04-29T17:29:31Z   \n",
       "4  8.841186e+12        5642494      F  2016-04-29T16:07:23Z   \n",
       "\n",
       "         AppointmentDay  Age      Neighbourhood  Scholarship  Hipertension  \\\n",
       "0  2016-04-29T00:00:00Z   62    JARDIM DA PENHA            0             1   \n",
       "1  2016-04-29T00:00:00Z   56    JARDIM DA PENHA            0             0   \n",
       "2  2016-04-29T00:00:00Z   62      MATA DA PRAIA            0             0   \n",
       "3  2016-04-29T00:00:00Z    8  PONTAL DE CAMBURI            0             0   \n",
       "4  2016-04-29T00:00:00Z   56    JARDIM DA PENHA            0             1   \n",
       "\n",
       "   Diabetes  Alcoholism  Handcap  SMS_received No-show  \n",
       "0         0           0        0             0      No  \n",
       "1         0           0        0             0      No  \n",
       "2         0           0        0             0      No  \n",
       "3         0           0        0             0      No  \n",
       "4         1           0        0             0      No  "
      ]
     },
     "execution_count": 2,
     "metadata": {},
     "output_type": "execute_result"
    }
   ],
   "source": [
    "## read Csv file\n",
    "df_1 = pd.read_csv('noshowappointments-kagglev2-may-2016.csv')\n",
    "df_1.head()"
   ]
  },
  {
   "cell_type": "code",
   "execution_count": 3,
   "metadata": {
    "slideshow": {
     "slide_type": "skip"
    }
   },
   "outputs": [
    {
     "data": {
      "text/html": [
       "<div>\n",
       "<style scoped>\n",
       "    .dataframe tbody tr th:only-of-type {\n",
       "        vertical-align: middle;\n",
       "    }\n",
       "\n",
       "    .dataframe tbody tr th {\n",
       "        vertical-align: top;\n",
       "    }\n",
       "\n",
       "    .dataframe thead th {\n",
       "        text-align: right;\n",
       "    }\n",
       "</style>\n",
       "<table border=\"1\" class=\"dataframe\">\n",
       "  <thead>\n",
       "    <tr style=\"text-align: right;\">\n",
       "      <th></th>\n",
       "      <th>PatientId</th>\n",
       "      <th>AppointmentID</th>\n",
       "      <th>Gender</th>\n",
       "      <th>ScheduledDay</th>\n",
       "      <th>AppointmentDay</th>\n",
       "      <th>Age</th>\n",
       "      <th>Neighbourhood</th>\n",
       "      <th>Scholarship</th>\n",
       "      <th>Hipertension</th>\n",
       "      <th>Diabetes</th>\n",
       "      <th>Alcoholism</th>\n",
       "      <th>Handcap</th>\n",
       "      <th>SMS_received</th>\n",
       "      <th>No-show</th>\n",
       "    </tr>\n",
       "  </thead>\n",
       "  <tbody>\n",
       "    <tr>\n",
       "      <th>73250</th>\n",
       "      <td>9.941963e+13</td>\n",
       "      <td>5656765</td>\n",
       "      <td>M</td>\n",
       "      <td>2016-05-04T08:29:48Z</td>\n",
       "      <td>2016-05-13T00:00:00Z</td>\n",
       "      <td>4</td>\n",
       "      <td>ROMÃO</td>\n",
       "      <td>0</td>\n",
       "      <td>0</td>\n",
       "      <td>0</td>\n",
       "      <td>0</td>\n",
       "      <td>0</td>\n",
       "      <td>0</td>\n",
       "      <td>Yes</td>\n",
       "    </tr>\n",
       "    <tr>\n",
       "      <th>24790</th>\n",
       "      <td>7.582692e+13</td>\n",
       "      <td>5692465</td>\n",
       "      <td>F</td>\n",
       "      <td>2016-05-12T15:25:20Z</td>\n",
       "      <td>2016-05-19T00:00:00Z</td>\n",
       "      <td>57</td>\n",
       "      <td>SANTO ANDRÉ</td>\n",
       "      <td>1</td>\n",
       "      <td>0</td>\n",
       "      <td>1</td>\n",
       "      <td>0</td>\n",
       "      <td>0</td>\n",
       "      <td>0</td>\n",
       "      <td>Yes</td>\n",
       "    </tr>\n",
       "    <tr>\n",
       "      <th>86305</th>\n",
       "      <td>9.661257e+14</td>\n",
       "      <td>5784575</td>\n",
       "      <td>F</td>\n",
       "      <td>2016-06-07T16:21:25Z</td>\n",
       "      <td>2016-06-07T00:00:00Z</td>\n",
       "      <td>44</td>\n",
       "      <td>FORTE SÃO JOÃO</td>\n",
       "      <td>0</td>\n",
       "      <td>0</td>\n",
       "      <td>0</td>\n",
       "      <td>0</td>\n",
       "      <td>0</td>\n",
       "      <td>0</td>\n",
       "      <td>No</td>\n",
       "    </tr>\n",
       "    <tr>\n",
       "      <th>78647</th>\n",
       "      <td>6.865846e+10</td>\n",
       "      <td>5694272</td>\n",
       "      <td>M</td>\n",
       "      <td>2016-05-13T08:25:20Z</td>\n",
       "      <td>2016-05-13T00:00:00Z</td>\n",
       "      <td>9</td>\n",
       "      <td>BONFIM</td>\n",
       "      <td>0</td>\n",
       "      <td>0</td>\n",
       "      <td>0</td>\n",
       "      <td>0</td>\n",
       "      <td>0</td>\n",
       "      <td>0</td>\n",
       "      <td>No</td>\n",
       "    </tr>\n",
       "    <tr>\n",
       "      <th>42826</th>\n",
       "      <td>2.598974e+14</td>\n",
       "      <td>5729868</td>\n",
       "      <td>F</td>\n",
       "      <td>2016-05-24T07:55:30Z</td>\n",
       "      <td>2016-05-24T00:00:00Z</td>\n",
       "      <td>8</td>\n",
       "      <td>TABUAZEIRO</td>\n",
       "      <td>0</td>\n",
       "      <td>0</td>\n",
       "      <td>0</td>\n",
       "      <td>0</td>\n",
       "      <td>0</td>\n",
       "      <td>0</td>\n",
       "      <td>No</td>\n",
       "    </tr>\n",
       "    <tr>\n",
       "      <th>9676</th>\n",
       "      <td>4.821116e+12</td>\n",
       "      <td>5644715</td>\n",
       "      <td>M</td>\n",
       "      <td>2016-05-02T09:01:46Z</td>\n",
       "      <td>2016-05-06T00:00:00Z</td>\n",
       "      <td>7</td>\n",
       "      <td>CRUZAMENTO</td>\n",
       "      <td>0</td>\n",
       "      <td>0</td>\n",
       "      <td>0</td>\n",
       "      <td>0</td>\n",
       "      <td>0</td>\n",
       "      <td>0</td>\n",
       "      <td>No</td>\n",
       "    </tr>\n",
       "    <tr>\n",
       "      <th>87075</th>\n",
       "      <td>1.562373e+12</td>\n",
       "      <td>5538268</td>\n",
       "      <td>F</td>\n",
       "      <td>2016-04-01T11:38:32Z</td>\n",
       "      <td>2016-06-06T00:00:00Z</td>\n",
       "      <td>48</td>\n",
       "      <td>JARDIM CAMBURI</td>\n",
       "      <td>0</td>\n",
       "      <td>0</td>\n",
       "      <td>0</td>\n",
       "      <td>0</td>\n",
       "      <td>0</td>\n",
       "      <td>1</td>\n",
       "      <td>No</td>\n",
       "    </tr>\n",
       "    <tr>\n",
       "      <th>18295</th>\n",
       "      <td>2.677355e+12</td>\n",
       "      <td>5678375</td>\n",
       "      <td>M</td>\n",
       "      <td>2016-05-10T08:26:09Z</td>\n",
       "      <td>2016-05-10T00:00:00Z</td>\n",
       "      <td>59</td>\n",
       "      <td>SANTA MARTHA</td>\n",
       "      <td>1</td>\n",
       "      <td>0</td>\n",
       "      <td>0</td>\n",
       "      <td>0</td>\n",
       "      <td>0</td>\n",
       "      <td>0</td>\n",
       "      <td>No</td>\n",
       "    </tr>\n",
       "    <tr>\n",
       "      <th>82817</th>\n",
       "      <td>3.157742e+11</td>\n",
       "      <td>5719789</td>\n",
       "      <td>F</td>\n",
       "      <td>2016-05-19T12:06:25Z</td>\n",
       "      <td>2016-05-30T00:00:00Z</td>\n",
       "      <td>19</td>\n",
       "      <td>BONFIM</td>\n",
       "      <td>0</td>\n",
       "      <td>0</td>\n",
       "      <td>0</td>\n",
       "      <td>0</td>\n",
       "      <td>0</td>\n",
       "      <td>0</td>\n",
       "      <td>Yes</td>\n",
       "    </tr>\n",
       "    <tr>\n",
       "      <th>54006</th>\n",
       "      <td>4.933652e+11</td>\n",
       "      <td>5663057</td>\n",
       "      <td>M</td>\n",
       "      <td>2016-05-05T09:26:21Z</td>\n",
       "      <td>2016-05-05T00:00:00Z</td>\n",
       "      <td>50</td>\n",
       "      <td>ILHA DE SANTA MARIA</td>\n",
       "      <td>0</td>\n",
       "      <td>0</td>\n",
       "      <td>0</td>\n",
       "      <td>0</td>\n",
       "      <td>0</td>\n",
       "      <td>0</td>\n",
       "      <td>No</td>\n",
       "    </tr>\n",
       "    <tr>\n",
       "      <th>51916</th>\n",
       "      <td>3.687127e+13</td>\n",
       "      <td>5562799</td>\n",
       "      <td>F</td>\n",
       "      <td>2016-04-08T14:27:53Z</td>\n",
       "      <td>2016-05-09T00:00:00Z</td>\n",
       "      <td>73</td>\n",
       "      <td>JESUS DE NAZARETH</td>\n",
       "      <td>0</td>\n",
       "      <td>1</td>\n",
       "      <td>1</td>\n",
       "      <td>0</td>\n",
       "      <td>0</td>\n",
       "      <td>0</td>\n",
       "      <td>No</td>\n",
       "    </tr>\n",
       "    <tr>\n",
       "      <th>31388</th>\n",
       "      <td>2.853129e+13</td>\n",
       "      <td>5745665</td>\n",
       "      <td>F</td>\n",
       "      <td>2016-05-30T12:21:30Z</td>\n",
       "      <td>2016-05-30T00:00:00Z</td>\n",
       "      <td>1</td>\n",
       "      <td>CONSOLAÇÃO</td>\n",
       "      <td>0</td>\n",
       "      <td>0</td>\n",
       "      <td>0</td>\n",
       "      <td>0</td>\n",
       "      <td>0</td>\n",
       "      <td>0</td>\n",
       "      <td>No</td>\n",
       "    </tr>\n",
       "    <tr>\n",
       "      <th>6059</th>\n",
       "      <td>4.133413e+11</td>\n",
       "      <td>5692856</td>\n",
       "      <td>F</td>\n",
       "      <td>2016-05-12T16:31:29Z</td>\n",
       "      <td>2016-05-17T00:00:00Z</td>\n",
       "      <td>53</td>\n",
       "      <td>RESISTÊNCIA</td>\n",
       "      <td>0</td>\n",
       "      <td>1</td>\n",
       "      <td>0</td>\n",
       "      <td>0</td>\n",
       "      <td>0</td>\n",
       "      <td>0</td>\n",
       "      <td>No</td>\n",
       "    </tr>\n",
       "    <tr>\n",
       "      <th>48409</th>\n",
       "      <td>2.239270e+13</td>\n",
       "      <td>5583239</td>\n",
       "      <td>F</td>\n",
       "      <td>2016-04-14T10:41:32Z</td>\n",
       "      <td>2016-05-12T00:00:00Z</td>\n",
       "      <td>22</td>\n",
       "      <td>CENTRO</td>\n",
       "      <td>1</td>\n",
       "      <td>0</td>\n",
       "      <td>0</td>\n",
       "      <td>0</td>\n",
       "      <td>0</td>\n",
       "      <td>0</td>\n",
       "      <td>No</td>\n",
       "    </tr>\n",
       "    <tr>\n",
       "      <th>39944</th>\n",
       "      <td>6.419229e+14</td>\n",
       "      <td>5700256</td>\n",
       "      <td>F</td>\n",
       "      <td>2016-05-16T09:16:25Z</td>\n",
       "      <td>2016-05-16T00:00:00Z</td>\n",
       "      <td>26</td>\n",
       "      <td>RESISTÊNCIA</td>\n",
       "      <td>0</td>\n",
       "      <td>0</td>\n",
       "      <td>0</td>\n",
       "      <td>0</td>\n",
       "      <td>0</td>\n",
       "      <td>0</td>\n",
       "      <td>No</td>\n",
       "    </tr>\n",
       "    <tr>\n",
       "      <th>15433</th>\n",
       "      <td>5.779895e+13</td>\n",
       "      <td>5501994</td>\n",
       "      <td>M</td>\n",
       "      <td>2016-03-22T13:58:40Z</td>\n",
       "      <td>2016-05-04T00:00:00Z</td>\n",
       "      <td>1</td>\n",
       "      <td>JESUS DE NAZARETH</td>\n",
       "      <td>0</td>\n",
       "      <td>0</td>\n",
       "      <td>0</td>\n",
       "      <td>0</td>\n",
       "      <td>0</td>\n",
       "      <td>1</td>\n",
       "      <td>Yes</td>\n",
       "    </tr>\n",
       "    <tr>\n",
       "      <th>105166</th>\n",
       "      <td>1.914297e+14</td>\n",
       "      <td>5775199</td>\n",
       "      <td>M</td>\n",
       "      <td>2016-06-06T09:10:25Z</td>\n",
       "      <td>2016-06-08T00:00:00Z</td>\n",
       "      <td>34</td>\n",
       "      <td>BONFIM</td>\n",
       "      <td>0</td>\n",
       "      <td>0</td>\n",
       "      <td>0</td>\n",
       "      <td>0</td>\n",
       "      <td>0</td>\n",
       "      <td>0</td>\n",
       "      <td>No</td>\n",
       "    </tr>\n",
       "    <tr>\n",
       "      <th>65976</th>\n",
       "      <td>2.984123e+13</td>\n",
       "      <td>5672525</td>\n",
       "      <td>F</td>\n",
       "      <td>2016-05-09T08:09:20Z</td>\n",
       "      <td>2016-05-16T00:00:00Z</td>\n",
       "      <td>20</td>\n",
       "      <td>SÃO BENEDITO</td>\n",
       "      <td>0</td>\n",
       "      <td>0</td>\n",
       "      <td>0</td>\n",
       "      <td>0</td>\n",
       "      <td>0</td>\n",
       "      <td>0</td>\n",
       "      <td>Yes</td>\n",
       "    </tr>\n",
       "    <tr>\n",
       "      <th>57118</th>\n",
       "      <td>9.112787e+10</td>\n",
       "      <td>5742072</td>\n",
       "      <td>F</td>\n",
       "      <td>2016-05-30T07:41:47Z</td>\n",
       "      <td>2016-05-30T00:00:00Z</td>\n",
       "      <td>28</td>\n",
       "      <td>TABUAZEIRO</td>\n",
       "      <td>0</td>\n",
       "      <td>1</td>\n",
       "      <td>0</td>\n",
       "      <td>0</td>\n",
       "      <td>0</td>\n",
       "      <td>0</td>\n",
       "      <td>No</td>\n",
       "    </tr>\n",
       "    <tr>\n",
       "      <th>9123</th>\n",
       "      <td>4.294635e+12</td>\n",
       "      <td>5673217</td>\n",
       "      <td>F</td>\n",
       "      <td>2016-05-09T09:02:10Z</td>\n",
       "      <td>2016-05-09T00:00:00Z</td>\n",
       "      <td>72</td>\n",
       "      <td>SANTO ANTÔNIO</td>\n",
       "      <td>0</td>\n",
       "      <td>1</td>\n",
       "      <td>1</td>\n",
       "      <td>0</td>\n",
       "      <td>0</td>\n",
       "      <td>0</td>\n",
       "      <td>No</td>\n",
       "    </tr>\n",
       "  </tbody>\n",
       "</table>\n",
       "</div>"
      ],
      "text/plain": [
       "           PatientId  AppointmentID Gender          ScheduledDay  \\\n",
       "73250   9.941963e+13        5656765      M  2016-05-04T08:29:48Z   \n",
       "24790   7.582692e+13        5692465      F  2016-05-12T15:25:20Z   \n",
       "86305   9.661257e+14        5784575      F  2016-06-07T16:21:25Z   \n",
       "78647   6.865846e+10        5694272      M  2016-05-13T08:25:20Z   \n",
       "42826   2.598974e+14        5729868      F  2016-05-24T07:55:30Z   \n",
       "9676    4.821116e+12        5644715      M  2016-05-02T09:01:46Z   \n",
       "87075   1.562373e+12        5538268      F  2016-04-01T11:38:32Z   \n",
       "18295   2.677355e+12        5678375      M  2016-05-10T08:26:09Z   \n",
       "82817   3.157742e+11        5719789      F  2016-05-19T12:06:25Z   \n",
       "54006   4.933652e+11        5663057      M  2016-05-05T09:26:21Z   \n",
       "51916   3.687127e+13        5562799      F  2016-04-08T14:27:53Z   \n",
       "31388   2.853129e+13        5745665      F  2016-05-30T12:21:30Z   \n",
       "6059    4.133413e+11        5692856      F  2016-05-12T16:31:29Z   \n",
       "48409   2.239270e+13        5583239      F  2016-04-14T10:41:32Z   \n",
       "39944   6.419229e+14        5700256      F  2016-05-16T09:16:25Z   \n",
       "15433   5.779895e+13        5501994      M  2016-03-22T13:58:40Z   \n",
       "105166  1.914297e+14        5775199      M  2016-06-06T09:10:25Z   \n",
       "65976   2.984123e+13        5672525      F  2016-05-09T08:09:20Z   \n",
       "57118   9.112787e+10        5742072      F  2016-05-30T07:41:47Z   \n",
       "9123    4.294635e+12        5673217      F  2016-05-09T09:02:10Z   \n",
       "\n",
       "              AppointmentDay  Age        Neighbourhood  Scholarship  \\\n",
       "73250   2016-05-13T00:00:00Z    4                ROMÃO            0   \n",
       "24790   2016-05-19T00:00:00Z   57          SANTO ANDRÉ            1   \n",
       "86305   2016-06-07T00:00:00Z   44       FORTE SÃO JOÃO            0   \n",
       "78647   2016-05-13T00:00:00Z    9               BONFIM            0   \n",
       "42826   2016-05-24T00:00:00Z    8           TABUAZEIRO            0   \n",
       "9676    2016-05-06T00:00:00Z    7           CRUZAMENTO            0   \n",
       "87075   2016-06-06T00:00:00Z   48       JARDIM CAMBURI            0   \n",
       "18295   2016-05-10T00:00:00Z   59         SANTA MARTHA            1   \n",
       "82817   2016-05-30T00:00:00Z   19               BONFIM            0   \n",
       "54006   2016-05-05T00:00:00Z   50  ILHA DE SANTA MARIA            0   \n",
       "51916   2016-05-09T00:00:00Z   73    JESUS DE NAZARETH            0   \n",
       "31388   2016-05-30T00:00:00Z    1           CONSOLAÇÃO            0   \n",
       "6059    2016-05-17T00:00:00Z   53          RESISTÊNCIA            0   \n",
       "48409   2016-05-12T00:00:00Z   22               CENTRO            1   \n",
       "39944   2016-05-16T00:00:00Z   26          RESISTÊNCIA            0   \n",
       "15433   2016-05-04T00:00:00Z    1    JESUS DE NAZARETH            0   \n",
       "105166  2016-06-08T00:00:00Z   34               BONFIM            0   \n",
       "65976   2016-05-16T00:00:00Z   20         SÃO BENEDITO            0   \n",
       "57118   2016-05-30T00:00:00Z   28           TABUAZEIRO            0   \n",
       "9123    2016-05-09T00:00:00Z   72        SANTO ANTÔNIO            0   \n",
       "\n",
       "        Hipertension  Diabetes  Alcoholism  Handcap  SMS_received No-show  \n",
       "73250              0         0           0        0             0     Yes  \n",
       "24790              0         1           0        0             0     Yes  \n",
       "86305              0         0           0        0             0      No  \n",
       "78647              0         0           0        0             0      No  \n",
       "42826              0         0           0        0             0      No  \n",
       "9676               0         0           0        0             0      No  \n",
       "87075              0         0           0        0             1      No  \n",
       "18295              0         0           0        0             0      No  \n",
       "82817              0         0           0        0             0     Yes  \n",
       "54006              0         0           0        0             0      No  \n",
       "51916              1         1           0        0             0      No  \n",
       "31388              0         0           0        0             0      No  \n",
       "6059               1         0           0        0             0      No  \n",
       "48409              0         0           0        0             0      No  \n",
       "39944              0         0           0        0             0      No  \n",
       "15433              0         0           0        0             1     Yes  \n",
       "105166             0         0           0        0             0      No  \n",
       "65976              0         0           0        0             0     Yes  \n",
       "57118              1         0           0        0             0      No  \n",
       "9123               1         1           0        0             0      No  "
      ]
     },
     "execution_count": 3,
     "metadata": {},
     "output_type": "execute_result"
    }
   ],
   "source": [
    "## Get random samole of dataset\n",
    "df_1.sample(20)"
   ]
  },
  {
   "cell_type": "code",
   "execution_count": 4,
   "metadata": {
    "slideshow": {
     "slide_type": "skip"
    }
   },
   "outputs": [
    {
     "data": {
      "text/plain": [
       "(110527, 14)"
      ]
     },
     "execution_count": 4,
     "metadata": {},
     "output_type": "execute_result"
    }
   ],
   "source": [
    "df_1.shape"
   ]
  },
  {
   "cell_type": "code",
   "execution_count": 5,
   "metadata": {
    "slideshow": {
     "slide_type": "skip"
    }
   },
   "outputs": [
    {
     "name": "stdout",
     "output_type": "stream",
     "text": [
      "<class 'pandas.core.frame.DataFrame'>\n",
      "RangeIndex: 110527 entries, 0 to 110526\n",
      "Data columns (total 14 columns):\n",
      " #   Column          Non-Null Count   Dtype  \n",
      "---  ------          --------------   -----  \n",
      " 0   PatientId       110527 non-null  float64\n",
      " 1   AppointmentID   110527 non-null  int64  \n",
      " 2   Gender          110527 non-null  object \n",
      " 3   ScheduledDay    110527 non-null  object \n",
      " 4   AppointmentDay  110527 non-null  object \n",
      " 5   Age             110527 non-null  int64  \n",
      " 6   Neighbourhood   110527 non-null  object \n",
      " 7   Scholarship     110527 non-null  int64  \n",
      " 8   Hipertension    110527 non-null  int64  \n",
      " 9   Diabetes        110527 non-null  int64  \n",
      " 10  Alcoholism      110527 non-null  int64  \n",
      " 11  Handcap         110527 non-null  int64  \n",
      " 12  SMS_received    110527 non-null  int64  \n",
      " 13  No-show         110527 non-null  object \n",
      "dtypes: float64(1), int64(8), object(5)\n",
      "memory usage: 11.8+ MB\n"
     ]
    }
   ],
   "source": [
    "df_1.info()"
   ]
  },
  {
   "cell_type": "code",
   "execution_count": 6,
   "metadata": {
    "scrolled": true,
    "slideshow": {
     "slide_type": "skip"
    }
   },
   "outputs": [
    {
     "data": {
      "text/html": [
       "<div>\n",
       "<style scoped>\n",
       "    .dataframe tbody tr th:only-of-type {\n",
       "        vertical-align: middle;\n",
       "    }\n",
       "\n",
       "    .dataframe tbody tr th {\n",
       "        vertical-align: top;\n",
       "    }\n",
       "\n",
       "    .dataframe thead th {\n",
       "        text-align: right;\n",
       "    }\n",
       "</style>\n",
       "<table border=\"1\" class=\"dataframe\">\n",
       "  <thead>\n",
       "    <tr style=\"text-align: right;\">\n",
       "      <th></th>\n",
       "      <th>PatientId</th>\n",
       "      <th>AppointmentID</th>\n",
       "      <th>Gender</th>\n",
       "      <th>ScheduledDay</th>\n",
       "      <th>AppointmentDay</th>\n",
       "      <th>Age</th>\n",
       "      <th>Neighbourhood</th>\n",
       "      <th>Scholarship</th>\n",
       "      <th>Hipertension</th>\n",
       "      <th>Diabetes</th>\n",
       "      <th>Alcoholism</th>\n",
       "      <th>Handcap</th>\n",
       "      <th>SMS_received</th>\n",
       "      <th>No-show</th>\n",
       "    </tr>\n",
       "  </thead>\n",
       "  <tbody>\n",
       "    <tr>\n",
       "      <th>count</th>\n",
       "      <td>1.105270e+05</td>\n",
       "      <td>1.105270e+05</td>\n",
       "      <td>110527</td>\n",
       "      <td>110527</td>\n",
       "      <td>110527</td>\n",
       "      <td>110527.000000</td>\n",
       "      <td>110527</td>\n",
       "      <td>110527.000000</td>\n",
       "      <td>110527.000000</td>\n",
       "      <td>110527.000000</td>\n",
       "      <td>110527.000000</td>\n",
       "      <td>110527.000000</td>\n",
       "      <td>110527.000000</td>\n",
       "      <td>110527</td>\n",
       "    </tr>\n",
       "    <tr>\n",
       "      <th>unique</th>\n",
       "      <td>NaN</td>\n",
       "      <td>NaN</td>\n",
       "      <td>2</td>\n",
       "      <td>103549</td>\n",
       "      <td>27</td>\n",
       "      <td>NaN</td>\n",
       "      <td>81</td>\n",
       "      <td>NaN</td>\n",
       "      <td>NaN</td>\n",
       "      <td>NaN</td>\n",
       "      <td>NaN</td>\n",
       "      <td>NaN</td>\n",
       "      <td>NaN</td>\n",
       "      <td>2</td>\n",
       "    </tr>\n",
       "    <tr>\n",
       "      <th>top</th>\n",
       "      <td>NaN</td>\n",
       "      <td>NaN</td>\n",
       "      <td>F</td>\n",
       "      <td>2016-05-06T07:09:54Z</td>\n",
       "      <td>2016-06-06T00:00:00Z</td>\n",
       "      <td>NaN</td>\n",
       "      <td>JARDIM CAMBURI</td>\n",
       "      <td>NaN</td>\n",
       "      <td>NaN</td>\n",
       "      <td>NaN</td>\n",
       "      <td>NaN</td>\n",
       "      <td>NaN</td>\n",
       "      <td>NaN</td>\n",
       "      <td>No</td>\n",
       "    </tr>\n",
       "    <tr>\n",
       "      <th>freq</th>\n",
       "      <td>NaN</td>\n",
       "      <td>NaN</td>\n",
       "      <td>71840</td>\n",
       "      <td>24</td>\n",
       "      <td>4692</td>\n",
       "      <td>NaN</td>\n",
       "      <td>7717</td>\n",
       "      <td>NaN</td>\n",
       "      <td>NaN</td>\n",
       "      <td>NaN</td>\n",
       "      <td>NaN</td>\n",
       "      <td>NaN</td>\n",
       "      <td>NaN</td>\n",
       "      <td>88208</td>\n",
       "    </tr>\n",
       "    <tr>\n",
       "      <th>mean</th>\n",
       "      <td>1.474963e+14</td>\n",
       "      <td>5.675305e+06</td>\n",
       "      <td>NaN</td>\n",
       "      <td>NaN</td>\n",
       "      <td>NaN</td>\n",
       "      <td>37.088874</td>\n",
       "      <td>NaN</td>\n",
       "      <td>0.098266</td>\n",
       "      <td>0.197246</td>\n",
       "      <td>0.071865</td>\n",
       "      <td>0.030400</td>\n",
       "      <td>0.022248</td>\n",
       "      <td>0.321026</td>\n",
       "      <td>NaN</td>\n",
       "    </tr>\n",
       "    <tr>\n",
       "      <th>std</th>\n",
       "      <td>2.560949e+14</td>\n",
       "      <td>7.129575e+04</td>\n",
       "      <td>NaN</td>\n",
       "      <td>NaN</td>\n",
       "      <td>NaN</td>\n",
       "      <td>23.110205</td>\n",
       "      <td>NaN</td>\n",
       "      <td>0.297675</td>\n",
       "      <td>0.397921</td>\n",
       "      <td>0.258265</td>\n",
       "      <td>0.171686</td>\n",
       "      <td>0.161543</td>\n",
       "      <td>0.466873</td>\n",
       "      <td>NaN</td>\n",
       "    </tr>\n",
       "    <tr>\n",
       "      <th>min</th>\n",
       "      <td>3.921784e+04</td>\n",
       "      <td>5.030230e+06</td>\n",
       "      <td>NaN</td>\n",
       "      <td>NaN</td>\n",
       "      <td>NaN</td>\n",
       "      <td>-1.000000</td>\n",
       "      <td>NaN</td>\n",
       "      <td>0.000000</td>\n",
       "      <td>0.000000</td>\n",
       "      <td>0.000000</td>\n",
       "      <td>0.000000</td>\n",
       "      <td>0.000000</td>\n",
       "      <td>0.000000</td>\n",
       "      <td>NaN</td>\n",
       "    </tr>\n",
       "    <tr>\n",
       "      <th>25%</th>\n",
       "      <td>4.172614e+12</td>\n",
       "      <td>5.640286e+06</td>\n",
       "      <td>NaN</td>\n",
       "      <td>NaN</td>\n",
       "      <td>NaN</td>\n",
       "      <td>18.000000</td>\n",
       "      <td>NaN</td>\n",
       "      <td>0.000000</td>\n",
       "      <td>0.000000</td>\n",
       "      <td>0.000000</td>\n",
       "      <td>0.000000</td>\n",
       "      <td>0.000000</td>\n",
       "      <td>0.000000</td>\n",
       "      <td>NaN</td>\n",
       "    </tr>\n",
       "    <tr>\n",
       "      <th>50%</th>\n",
       "      <td>3.173184e+13</td>\n",
       "      <td>5.680573e+06</td>\n",
       "      <td>NaN</td>\n",
       "      <td>NaN</td>\n",
       "      <td>NaN</td>\n",
       "      <td>37.000000</td>\n",
       "      <td>NaN</td>\n",
       "      <td>0.000000</td>\n",
       "      <td>0.000000</td>\n",
       "      <td>0.000000</td>\n",
       "      <td>0.000000</td>\n",
       "      <td>0.000000</td>\n",
       "      <td>0.000000</td>\n",
       "      <td>NaN</td>\n",
       "    </tr>\n",
       "    <tr>\n",
       "      <th>75%</th>\n",
       "      <td>9.439172e+13</td>\n",
       "      <td>5.725524e+06</td>\n",
       "      <td>NaN</td>\n",
       "      <td>NaN</td>\n",
       "      <td>NaN</td>\n",
       "      <td>55.000000</td>\n",
       "      <td>NaN</td>\n",
       "      <td>0.000000</td>\n",
       "      <td>0.000000</td>\n",
       "      <td>0.000000</td>\n",
       "      <td>0.000000</td>\n",
       "      <td>0.000000</td>\n",
       "      <td>1.000000</td>\n",
       "      <td>NaN</td>\n",
       "    </tr>\n",
       "    <tr>\n",
       "      <th>max</th>\n",
       "      <td>9.999816e+14</td>\n",
       "      <td>5.790484e+06</td>\n",
       "      <td>NaN</td>\n",
       "      <td>NaN</td>\n",
       "      <td>NaN</td>\n",
       "      <td>115.000000</td>\n",
       "      <td>NaN</td>\n",
       "      <td>1.000000</td>\n",
       "      <td>1.000000</td>\n",
       "      <td>1.000000</td>\n",
       "      <td>1.000000</td>\n",
       "      <td>4.000000</td>\n",
       "      <td>1.000000</td>\n",
       "      <td>NaN</td>\n",
       "    </tr>\n",
       "  </tbody>\n",
       "</table>\n",
       "</div>"
      ],
      "text/plain": [
       "           PatientId  AppointmentID  Gender          ScheduledDay  \\\n",
       "count   1.105270e+05   1.105270e+05  110527                110527   \n",
       "unique           NaN            NaN       2                103549   \n",
       "top              NaN            NaN       F  2016-05-06T07:09:54Z   \n",
       "freq             NaN            NaN   71840                    24   \n",
       "mean    1.474963e+14   5.675305e+06     NaN                   NaN   \n",
       "std     2.560949e+14   7.129575e+04     NaN                   NaN   \n",
       "min     3.921784e+04   5.030230e+06     NaN                   NaN   \n",
       "25%     4.172614e+12   5.640286e+06     NaN                   NaN   \n",
       "50%     3.173184e+13   5.680573e+06     NaN                   NaN   \n",
       "75%     9.439172e+13   5.725524e+06     NaN                   NaN   \n",
       "max     9.999816e+14   5.790484e+06     NaN                   NaN   \n",
       "\n",
       "              AppointmentDay            Age   Neighbourhood    Scholarship  \\\n",
       "count                 110527  110527.000000          110527  110527.000000   \n",
       "unique                    27            NaN              81            NaN   \n",
       "top     2016-06-06T00:00:00Z            NaN  JARDIM CAMBURI            NaN   \n",
       "freq                    4692            NaN            7717            NaN   \n",
       "mean                     NaN      37.088874             NaN       0.098266   \n",
       "std                      NaN      23.110205             NaN       0.297675   \n",
       "min                      NaN      -1.000000             NaN       0.000000   \n",
       "25%                      NaN      18.000000             NaN       0.000000   \n",
       "50%                      NaN      37.000000             NaN       0.000000   \n",
       "75%                      NaN      55.000000             NaN       0.000000   \n",
       "max                      NaN     115.000000             NaN       1.000000   \n",
       "\n",
       "         Hipertension       Diabetes     Alcoholism        Handcap  \\\n",
       "count   110527.000000  110527.000000  110527.000000  110527.000000   \n",
       "unique            NaN            NaN            NaN            NaN   \n",
       "top               NaN            NaN            NaN            NaN   \n",
       "freq              NaN            NaN            NaN            NaN   \n",
       "mean         0.197246       0.071865       0.030400       0.022248   \n",
       "std          0.397921       0.258265       0.171686       0.161543   \n",
       "min          0.000000       0.000000       0.000000       0.000000   \n",
       "25%          0.000000       0.000000       0.000000       0.000000   \n",
       "50%          0.000000       0.000000       0.000000       0.000000   \n",
       "75%          0.000000       0.000000       0.000000       0.000000   \n",
       "max          1.000000       1.000000       1.000000       4.000000   \n",
       "\n",
       "         SMS_received No-show  \n",
       "count   110527.000000  110527  \n",
       "unique            NaN       2  \n",
       "top               NaN      No  \n",
       "freq              NaN   88208  \n",
       "mean         0.321026     NaN  \n",
       "std          0.466873     NaN  \n",
       "min          0.000000     NaN  \n",
       "25%          0.000000     NaN  \n",
       "50%          0.000000     NaN  \n",
       "75%          1.000000     NaN  \n",
       "max          1.000000     NaN  "
      ]
     },
     "execution_count": 6,
     "metadata": {},
     "output_type": "execute_result"
    }
   ],
   "source": [
    "## Get all the describtion for dataset columns\n",
    "df_1.describe(include = 'all')"
   ]
  },
  {
   "cell_type": "code",
   "execution_count": 7,
   "metadata": {
    "slideshow": {
     "slide_type": "skip"
    }
   },
   "outputs": [
    {
     "data": {
      "text/plain": [
       "array(['2016-04-29T00:00:00Z', '2016-05-03T00:00:00Z',\n",
       "       '2016-05-10T00:00:00Z', '2016-05-17T00:00:00Z',\n",
       "       '2016-05-24T00:00:00Z', '2016-05-31T00:00:00Z',\n",
       "       '2016-05-02T00:00:00Z', '2016-05-30T00:00:00Z',\n",
       "       '2016-05-16T00:00:00Z', '2016-05-04T00:00:00Z',\n",
       "       '2016-05-19T00:00:00Z', '2016-05-12T00:00:00Z',\n",
       "       '2016-05-06T00:00:00Z', '2016-05-20T00:00:00Z',\n",
       "       '2016-05-05T00:00:00Z', '2016-05-13T00:00:00Z',\n",
       "       '2016-05-09T00:00:00Z', '2016-05-25T00:00:00Z',\n",
       "       '2016-05-11T00:00:00Z', '2016-05-18T00:00:00Z',\n",
       "       '2016-05-14T00:00:00Z', '2016-06-02T00:00:00Z',\n",
       "       '2016-06-03T00:00:00Z', '2016-06-06T00:00:00Z',\n",
       "       '2016-06-07T00:00:00Z', '2016-06-01T00:00:00Z',\n",
       "       '2016-06-08T00:00:00Z'], dtype=object)"
      ]
     },
     "execution_count": 7,
     "metadata": {},
     "output_type": "execute_result"
    }
   ],
   "source": [
    "## search for the unique values in AppointmentDay\n",
    "df_1['AppointmentDay'].unique()"
   ]
  },
  {
   "cell_type": "code",
   "execution_count": 8,
   "metadata": {
    "slideshow": {
     "slide_type": "skip"
    }
   },
   "outputs": [
    {
     "data": {
      "text/plain": [
       "array(['JARDIM DA PENHA', 'MATA DA PRAIA', 'PONTAL DE CAMBURI',\n",
       "       'REPÚBLICA', 'GOIABEIRAS', 'ANDORINHAS', 'CONQUISTA',\n",
       "       'NOVA PALESTINA', 'DA PENHA', 'TABUAZEIRO', 'BENTO FERREIRA',\n",
       "       'SÃO PEDRO', 'SANTA MARTHA', 'SÃO CRISTÓVÃO', 'MARUÍPE',\n",
       "       'GRANDE VITÓRIA', 'SÃO BENEDITO', 'ILHA DAS CAIEIRAS',\n",
       "       'SANTO ANDRÉ', 'SOLON BORGES', 'BONFIM', 'JARDIM CAMBURI',\n",
       "       'MARIA ORTIZ', 'JABOUR', 'ANTÔNIO HONÓRIO', 'RESISTÊNCIA',\n",
       "       'ILHA DE SANTA MARIA', 'JUCUTUQUARA', 'MONTE BELO',\n",
       "       'MÁRIO CYPRESTE', 'SANTO ANTÔNIO', 'BELA VISTA', 'PRAIA DO SUÁ',\n",
       "       'SANTA HELENA', 'ITARARÉ', 'INHANGUETÁ', 'UNIVERSITÁRIO',\n",
       "       'SÃO JOSÉ', 'REDENÇÃO', 'SANTA CLARA', 'CENTRO', 'PARQUE MOSCOSO',\n",
       "       'DO MOSCOSO', 'SANTOS DUMONT', 'CARATOÍRA', 'ARIOVALDO FAVALESSA',\n",
       "       'ILHA DO FRADE', 'GURIGICA', 'JOANA D´ARC', 'CONSOLAÇÃO',\n",
       "       'PRAIA DO CANTO', 'BOA VISTA', 'MORADA DE CAMBURI', 'SANTA LUÍZA',\n",
       "       'SANTA LÚCIA', 'BARRO VERMELHO', 'ESTRELINHA', 'FORTE SÃO JOÃO',\n",
       "       'FONTE GRANDE', 'ENSEADA DO SUÁ', 'SANTOS REIS', 'PIEDADE',\n",
       "       'JESUS DE NAZARETH', 'SANTA TEREZA', 'CRUZAMENTO',\n",
       "       'ILHA DO PRÍNCIPE', 'ROMÃO', 'COMDUSA', 'SANTA CECÍLIA',\n",
       "       'VILA RUBIM', 'DE LOURDES', 'DO QUADRO', 'DO CABRAL', 'HORTO',\n",
       "       'SEGURANÇA DO LAR', 'ILHA DO BOI', 'FRADINHOS', 'NAZARETH',\n",
       "       'AEROPORTO', 'ILHAS OCEÂNICAS DE TRINDADE', 'PARQUE INDUSTRIAL'],\n",
       "      dtype=object)"
      ]
     },
     "execution_count": 8,
     "metadata": {},
     "output_type": "execute_result"
    }
   ],
   "source": [
    "## search for the unique values in Neighbourhood\n",
    "df_1['Neighbourhood'].unique()"
   ]
  },
  {
   "cell_type": "code",
   "execution_count": 9,
   "metadata": {
    "slideshow": {
     "slide_type": "skip"
    }
   },
   "outputs": [
    {
     "data": {
      "text/html": [
       "<div>\n",
       "<style scoped>\n",
       "    .dataframe tbody tr th:only-of-type {\n",
       "        vertical-align: middle;\n",
       "    }\n",
       "\n",
       "    .dataframe tbody tr th {\n",
       "        vertical-align: top;\n",
       "    }\n",
       "\n",
       "    .dataframe thead th {\n",
       "        text-align: right;\n",
       "    }\n",
       "</style>\n",
       "<table border=\"1\" class=\"dataframe\">\n",
       "  <thead>\n",
       "    <tr style=\"text-align: right;\">\n",
       "      <th></th>\n",
       "      <th>PatientId</th>\n",
       "      <th>AppointmentID</th>\n",
       "      <th>Gender</th>\n",
       "      <th>ScheduledDay</th>\n",
       "      <th>AppointmentDay</th>\n",
       "      <th>Age</th>\n",
       "      <th>Neighbourhood</th>\n",
       "      <th>Scholarship</th>\n",
       "      <th>Hipertension</th>\n",
       "      <th>Diabetes</th>\n",
       "      <th>Alcoholism</th>\n",
       "      <th>Handcap</th>\n",
       "      <th>SMS_received</th>\n",
       "      <th>No-show</th>\n",
       "    </tr>\n",
       "  </thead>\n",
       "  <tbody>\n",
       "    <tr>\n",
       "      <th>99832</th>\n",
       "      <td>4.659432e+14</td>\n",
       "      <td>5775010</td>\n",
       "      <td>F</td>\n",
       "      <td>2016-06-06T08:58:13Z</td>\n",
       "      <td>2016-06-06T00:00:00Z</td>\n",
       "      <td>-1</td>\n",
       "      <td>ROMÃO</td>\n",
       "      <td>0</td>\n",
       "      <td>0</td>\n",
       "      <td>0</td>\n",
       "      <td>0</td>\n",
       "      <td>0</td>\n",
       "      <td>0</td>\n",
       "      <td>No</td>\n",
       "    </tr>\n",
       "  </tbody>\n",
       "</table>\n",
       "</div>"
      ],
      "text/plain": [
       "          PatientId  AppointmentID Gender          ScheduledDay  \\\n",
       "99832  4.659432e+14        5775010      F  2016-06-06T08:58:13Z   \n",
       "\n",
       "             AppointmentDay  Age Neighbourhood  Scholarship  Hipertension  \\\n",
       "99832  2016-06-06T00:00:00Z   -1         ROMÃO            0             0   \n",
       "\n",
       "       Diabetes  Alcoholism  Handcap  SMS_received No-show  \n",
       "99832         0           0        0             0      No  "
      ]
     },
     "execution_count": 9,
     "metadata": {},
     "output_type": "execute_result"
    }
   ],
   "source": [
    "## Get the row in which Age column value is -1\n",
    "df_1.loc[df_1['Age'] == -1]"
   ]
  },
  {
   "cell_type": "code",
   "execution_count": 10,
   "metadata": {
    "slideshow": {
     "slide_type": "skip"
    }
   },
   "outputs": [
    {
     "data": {
      "text/html": [
       "<div>\n",
       "<style scoped>\n",
       "    .dataframe tbody tr th:only-of-type {\n",
       "        vertical-align: middle;\n",
       "    }\n",
       "\n",
       "    .dataframe tbody tr th {\n",
       "        vertical-align: top;\n",
       "    }\n",
       "\n",
       "    .dataframe thead th {\n",
       "        text-align: right;\n",
       "    }\n",
       "</style>\n",
       "<table border=\"1\" class=\"dataframe\">\n",
       "  <thead>\n",
       "    <tr style=\"text-align: right;\">\n",
       "      <th></th>\n",
       "      <th>PatientId</th>\n",
       "      <th>AppointmentID</th>\n",
       "      <th>Gender</th>\n",
       "      <th>ScheduledDay</th>\n",
       "      <th>AppointmentDay</th>\n",
       "      <th>Age</th>\n",
       "      <th>Neighbourhood</th>\n",
       "      <th>Scholarship</th>\n",
       "      <th>Hipertension</th>\n",
       "      <th>Diabetes</th>\n",
       "      <th>Alcoholism</th>\n",
       "      <th>Handcap</th>\n",
       "      <th>SMS_received</th>\n",
       "      <th>No-show</th>\n",
       "    </tr>\n",
       "  </thead>\n",
       "  <tbody>\n",
       "    <tr>\n",
       "      <th>99832</th>\n",
       "      <td>4.659432e+14</td>\n",
       "      <td>5775010</td>\n",
       "      <td>F</td>\n",
       "      <td>2016-06-06T08:58:13Z</td>\n",
       "      <td>2016-06-06T00:00:00Z</td>\n",
       "      <td>-1</td>\n",
       "      <td>ROMÃO</td>\n",
       "      <td>0</td>\n",
       "      <td>0</td>\n",
       "      <td>0</td>\n",
       "      <td>0</td>\n",
       "      <td>0</td>\n",
       "      <td>0</td>\n",
       "      <td>No</td>\n",
       "    </tr>\n",
       "  </tbody>\n",
       "</table>\n",
       "</div>"
      ],
      "text/plain": [
       "          PatientId  AppointmentID Gender          ScheduledDay  \\\n",
       "99832  4.659432e+14        5775010      F  2016-06-06T08:58:13Z   \n",
       "\n",
       "             AppointmentDay  Age Neighbourhood  Scholarship  Hipertension  \\\n",
       "99832  2016-06-06T00:00:00Z   -1         ROMÃO            0             0   \n",
       "\n",
       "       Diabetes  Alcoholism  Handcap  SMS_received No-show  \n",
       "99832         0           0        0             0      No  "
      ]
     },
     "execution_count": 10,
     "metadata": {},
     "output_type": "execute_result"
    }
   ],
   "source": [
    "\n",
    "df_1.loc[df_1['Age'] < 0]"
   ]
  },
  {
   "cell_type": "code",
   "execution_count": 11,
   "metadata": {
    "slideshow": {
     "slide_type": "skip"
    }
   },
   "outputs": [
    {
     "data": {
      "text/html": [
       "<div>\n",
       "<style scoped>\n",
       "    .dataframe tbody tr th:only-of-type {\n",
       "        vertical-align: middle;\n",
       "    }\n",
       "\n",
       "    .dataframe tbody tr th {\n",
       "        vertical-align: top;\n",
       "    }\n",
       "\n",
       "    .dataframe thead th {\n",
       "        text-align: right;\n",
       "    }\n",
       "</style>\n",
       "<table border=\"1\" class=\"dataframe\">\n",
       "  <thead>\n",
       "    <tr style=\"text-align: right;\">\n",
       "      <th></th>\n",
       "      <th>PatientId</th>\n",
       "      <th>AppointmentID</th>\n",
       "      <th>Gender</th>\n",
       "      <th>ScheduledDay</th>\n",
       "      <th>AppointmentDay</th>\n",
       "      <th>Age</th>\n",
       "      <th>Neighbourhood</th>\n",
       "      <th>Scholarship</th>\n",
       "      <th>Hipertension</th>\n",
       "      <th>Diabetes</th>\n",
       "      <th>Alcoholism</th>\n",
       "      <th>Handcap</th>\n",
       "      <th>SMS_received</th>\n",
       "      <th>No-show</th>\n",
       "    </tr>\n",
       "  </thead>\n",
       "  <tbody>\n",
       "    <tr>\n",
       "      <th>946</th>\n",
       "      <td>7.282582e+13</td>\n",
       "      <td>5582483</td>\n",
       "      <td>M</td>\n",
       "      <td>2016-04-14T09:26:08Z</td>\n",
       "      <td>2016-04-29T00:00:00Z</td>\n",
       "      <td>94</td>\n",
       "      <td>BELA VISTA</td>\n",
       "      <td>0</td>\n",
       "      <td>1</td>\n",
       "      <td>1</td>\n",
       "      <td>0</td>\n",
       "      <td>2</td>\n",
       "      <td>1</td>\n",
       "      <td>No</td>\n",
       "    </tr>\n",
       "    <tr>\n",
       "      <th>1665</th>\n",
       "      <td>1.242919e+13</td>\n",
       "      <td>5525497</td>\n",
       "      <td>M</td>\n",
       "      <td>2016-03-30T09:16:41Z</td>\n",
       "      <td>2016-04-29T00:00:00Z</td>\n",
       "      <td>64</td>\n",
       "      <td>SANTA MARTHA</td>\n",
       "      <td>0</td>\n",
       "      <td>1</td>\n",
       "      <td>0</td>\n",
       "      <td>1</td>\n",
       "      <td>2</td>\n",
       "      <td>1</td>\n",
       "      <td>No</td>\n",
       "    </tr>\n",
       "    <tr>\n",
       "      <th>1666</th>\n",
       "      <td>1.242919e+13</td>\n",
       "      <td>5525498</td>\n",
       "      <td>M</td>\n",
       "      <td>2016-03-30T09:16:41Z</td>\n",
       "      <td>2016-04-29T00:00:00Z</td>\n",
       "      <td>64</td>\n",
       "      <td>SANTA MARTHA</td>\n",
       "      <td>0</td>\n",
       "      <td>1</td>\n",
       "      <td>0</td>\n",
       "      <td>1</td>\n",
       "      <td>2</td>\n",
       "      <td>0</td>\n",
       "      <td>No</td>\n",
       "    </tr>\n",
       "    <tr>\n",
       "      <th>2071</th>\n",
       "      <td>1.242919e+13</td>\n",
       "      <td>5640120</td>\n",
       "      <td>M</td>\n",
       "      <td>2016-04-29T10:08:48Z</td>\n",
       "      <td>2016-04-29T00:00:00Z</td>\n",
       "      <td>64</td>\n",
       "      <td>SANTA MARTHA</td>\n",
       "      <td>0</td>\n",
       "      <td>1</td>\n",
       "      <td>0</td>\n",
       "      <td>1</td>\n",
       "      <td>2</td>\n",
       "      <td>0</td>\n",
       "      <td>No</td>\n",
       "    </tr>\n",
       "    <tr>\n",
       "      <th>2091</th>\n",
       "      <td>1.491829e+13</td>\n",
       "      <td>5638626</td>\n",
       "      <td>F</td>\n",
       "      <td>2016-04-29T08:13:59Z</td>\n",
       "      <td>2016-04-29T00:00:00Z</td>\n",
       "      <td>11</td>\n",
       "      <td>ANDORINHAS</td>\n",
       "      <td>0</td>\n",
       "      <td>0</td>\n",
       "      <td>0</td>\n",
       "      <td>0</td>\n",
       "      <td>2</td>\n",
       "      <td>0</td>\n",
       "      <td>No</td>\n",
       "    </tr>\n",
       "    <tr>\n",
       "      <th>...</th>\n",
       "      <td>...</td>\n",
       "      <td>...</td>\n",
       "      <td>...</td>\n",
       "      <td>...</td>\n",
       "      <td>...</td>\n",
       "      <td>...</td>\n",
       "      <td>...</td>\n",
       "      <td>...</td>\n",
       "      <td>...</td>\n",
       "      <td>...</td>\n",
       "      <td>...</td>\n",
       "      <td>...</td>\n",
       "      <td>...</td>\n",
       "      <td>...</td>\n",
       "    </tr>\n",
       "    <tr>\n",
       "      <th>108376</th>\n",
       "      <td>2.387212e+14</td>\n",
       "      <td>5756931</td>\n",
       "      <td>F</td>\n",
       "      <td>2016-06-01T08:48:28Z</td>\n",
       "      <td>2016-06-07T00:00:00Z</td>\n",
       "      <td>44</td>\n",
       "      <td>ROMÃO</td>\n",
       "      <td>0</td>\n",
       "      <td>1</td>\n",
       "      <td>1</td>\n",
       "      <td>0</td>\n",
       "      <td>2</td>\n",
       "      <td>1</td>\n",
       "      <td>No</td>\n",
       "    </tr>\n",
       "    <tr>\n",
       "      <th>109484</th>\n",
       "      <td>3.589495e+14</td>\n",
       "      <td>5752442</td>\n",
       "      <td>M</td>\n",
       "      <td>2016-05-31T11:45:57Z</td>\n",
       "      <td>2016-06-02T00:00:00Z</td>\n",
       "      <td>64</td>\n",
       "      <td>DA PENHA</td>\n",
       "      <td>0</td>\n",
       "      <td>1</td>\n",
       "      <td>1</td>\n",
       "      <td>0</td>\n",
       "      <td>2</td>\n",
       "      <td>0</td>\n",
       "      <td>No</td>\n",
       "    </tr>\n",
       "    <tr>\n",
       "      <th>109733</th>\n",
       "      <td>5.662976e+14</td>\n",
       "      <td>5772744</td>\n",
       "      <td>F</td>\n",
       "      <td>2016-06-03T16:11:00Z</td>\n",
       "      <td>2016-06-07T00:00:00Z</td>\n",
       "      <td>34</td>\n",
       "      <td>JUCUTUQUARA</td>\n",
       "      <td>0</td>\n",
       "      <td>0</td>\n",
       "      <td>0</td>\n",
       "      <td>0</td>\n",
       "      <td>2</td>\n",
       "      <td>1</td>\n",
       "      <td>No</td>\n",
       "    </tr>\n",
       "    <tr>\n",
       "      <th>109975</th>\n",
       "      <td>4.522185e+13</td>\n",
       "      <td>5766970</td>\n",
       "      <td>M</td>\n",
       "      <td>2016-06-02T16:07:36Z</td>\n",
       "      <td>2016-06-06T00:00:00Z</td>\n",
       "      <td>39</td>\n",
       "      <td>PRAIA DO SUÁ</td>\n",
       "      <td>1</td>\n",
       "      <td>0</td>\n",
       "      <td>0</td>\n",
       "      <td>0</td>\n",
       "      <td>2</td>\n",
       "      <td>1</td>\n",
       "      <td>No</td>\n",
       "    </tr>\n",
       "    <tr>\n",
       "      <th>110107</th>\n",
       "      <td>7.143714e+14</td>\n",
       "      <td>5761625</td>\n",
       "      <td>F</td>\n",
       "      <td>2016-06-02T06:44:00Z</td>\n",
       "      <td>2016-06-06T00:00:00Z</td>\n",
       "      <td>44</td>\n",
       "      <td>RESISTÊNCIA</td>\n",
       "      <td>0</td>\n",
       "      <td>0</td>\n",
       "      <td>0</td>\n",
       "      <td>0</td>\n",
       "      <td>2</td>\n",
       "      <td>1</td>\n",
       "      <td>No</td>\n",
       "    </tr>\n",
       "  </tbody>\n",
       "</table>\n",
       "<p>199 rows × 14 columns</p>\n",
       "</div>"
      ],
      "text/plain": [
       "           PatientId  AppointmentID Gender          ScheduledDay  \\\n",
       "946     7.282582e+13        5582483      M  2016-04-14T09:26:08Z   \n",
       "1665    1.242919e+13        5525497      M  2016-03-30T09:16:41Z   \n",
       "1666    1.242919e+13        5525498      M  2016-03-30T09:16:41Z   \n",
       "2071    1.242919e+13        5640120      M  2016-04-29T10:08:48Z   \n",
       "2091    1.491829e+13        5638626      F  2016-04-29T08:13:59Z   \n",
       "...              ...            ...    ...                   ...   \n",
       "108376  2.387212e+14        5756931      F  2016-06-01T08:48:28Z   \n",
       "109484  3.589495e+14        5752442      M  2016-05-31T11:45:57Z   \n",
       "109733  5.662976e+14        5772744      F  2016-06-03T16:11:00Z   \n",
       "109975  4.522185e+13        5766970      M  2016-06-02T16:07:36Z   \n",
       "110107  7.143714e+14        5761625      F  2016-06-02T06:44:00Z   \n",
       "\n",
       "              AppointmentDay  Age Neighbourhood  Scholarship  Hipertension  \\\n",
       "946     2016-04-29T00:00:00Z   94    BELA VISTA            0             1   \n",
       "1665    2016-04-29T00:00:00Z   64  SANTA MARTHA            0             1   \n",
       "1666    2016-04-29T00:00:00Z   64  SANTA MARTHA            0             1   \n",
       "2071    2016-04-29T00:00:00Z   64  SANTA MARTHA            0             1   \n",
       "2091    2016-04-29T00:00:00Z   11    ANDORINHAS            0             0   \n",
       "...                      ...  ...           ...          ...           ...   \n",
       "108376  2016-06-07T00:00:00Z   44         ROMÃO            0             1   \n",
       "109484  2016-06-02T00:00:00Z   64      DA PENHA            0             1   \n",
       "109733  2016-06-07T00:00:00Z   34   JUCUTUQUARA            0             0   \n",
       "109975  2016-06-06T00:00:00Z   39  PRAIA DO SUÁ            1             0   \n",
       "110107  2016-06-06T00:00:00Z   44   RESISTÊNCIA            0             0   \n",
       "\n",
       "        Diabetes  Alcoholism  Handcap  SMS_received No-show  \n",
       "946            1           0        2             1      No  \n",
       "1665           0           1        2             1      No  \n",
       "1666           0           1        2             0      No  \n",
       "2071           0           1        2             0      No  \n",
       "2091           0           0        2             0      No  \n",
       "...          ...         ...      ...           ...     ...  \n",
       "108376         1           0        2             1      No  \n",
       "109484         1           0        2             0      No  \n",
       "109733         0           0        2             1      No  \n",
       "109975         0           0        2             1      No  \n",
       "110107         0           0        2             1      No  \n",
       "\n",
       "[199 rows x 14 columns]"
      ]
     },
     "execution_count": 11,
     "metadata": {},
     "output_type": "execute_result"
    }
   ],
   "source": [
    "## Get the rows in which Handcap column values is greater than 1\n",
    "df_1.loc[df_1['Handcap'] > 1]"
   ]
  },
  {
   "cell_type": "markdown",
   "metadata": {
    "slideshow": {
     "slide_type": "slide"
    }
   },
   "source": [
    "### Data Cleaning \n",
    "\n",
    "### Assess of Data\n",
    "####  After Visual and programmatic assessment .\n",
    "\n",
    "#### Quality\n",
    "* change (Hipertension , Handcap , No-show)  to (Hypertension , handicapped , No_show).\n",
    "* Age of -1 is inaccurate .\n",
    "* Handicap data over 1 is inaccurate .\n",
    "* Change (PatientId) Column type to int64.\n",
    "* Change (Gender ,Neighbourhood ) Columns type to Category.\n",
    "* Change (ScheduledDay ,AppointmentDay) Columns type to datetime.  \n",
    "* Change (Scholarship ,Hypertension ,Diabetes ,Alcoholism ,handicapped ,SMS_received ,No-show) Columns type to bool."
   ]
  },
  {
   "cell_type": "markdown",
   "metadata": {
    "collapsed": true,
    "slideshow": {
     "slide_type": "skip"
    }
   },
   "source": [
    "### Cleaning of Data"
   ]
  },
  {
   "cell_type": "code",
   "execution_count": 12,
   "metadata": {
    "slideshow": {
     "slide_type": "skip"
    }
   },
   "outputs": [],
   "source": [
    "## Copy the dataset\n",
    "df1_clean = df_1.copy()"
   ]
  },
  {
   "cell_type": "markdown",
   "metadata": {
    "slideshow": {
     "slide_type": "skip"
    }
   },
   "source": [
    "#### Define\n",
    "* change (Hipertension , Handcap , No-show)  to (Hypertension , handicapped , No_show)."
   ]
  },
  {
   "cell_type": "markdown",
   "metadata": {
    "slideshow": {
     "slide_type": "skip"
    }
   },
   "source": [
    "#### Code"
   ]
  },
  {
   "cell_type": "code",
   "execution_count": 13,
   "metadata": {
    "slideshow": {
     "slide_type": "skip"
    }
   },
   "outputs": [],
   "source": [
    "## change the name of Hipertension , Handcap , No-show \n",
    "df1_clean.rename({'Hipertension': 'Hypertension', \n",
    "                  'Handcap': 'handicapped' , \n",
    "                  'No-show': 'No_show'}, axis=1, inplace=True)"
   ]
  },
  {
   "cell_type": "markdown",
   "metadata": {
    "slideshow": {
     "slide_type": "skip"
    }
   },
   "source": [
    "#### Test"
   ]
  },
  {
   "cell_type": "code",
   "execution_count": 14,
   "metadata": {
    "slideshow": {
     "slide_type": "skip"
    }
   },
   "outputs": [
    {
     "data": {
      "text/html": [
       "<div>\n",
       "<style scoped>\n",
       "    .dataframe tbody tr th:only-of-type {\n",
       "        vertical-align: middle;\n",
       "    }\n",
       "\n",
       "    .dataframe tbody tr th {\n",
       "        vertical-align: top;\n",
       "    }\n",
       "\n",
       "    .dataframe thead th {\n",
       "        text-align: right;\n",
       "    }\n",
       "</style>\n",
       "<table border=\"1\" class=\"dataframe\">\n",
       "  <thead>\n",
       "    <tr style=\"text-align: right;\">\n",
       "      <th></th>\n",
       "      <th>PatientId</th>\n",
       "      <th>AppointmentID</th>\n",
       "      <th>Gender</th>\n",
       "      <th>ScheduledDay</th>\n",
       "      <th>AppointmentDay</th>\n",
       "      <th>Age</th>\n",
       "      <th>Neighbourhood</th>\n",
       "      <th>Scholarship</th>\n",
       "      <th>Hypertension</th>\n",
       "      <th>Diabetes</th>\n",
       "      <th>Alcoholism</th>\n",
       "      <th>handicapped</th>\n",
       "      <th>SMS_received</th>\n",
       "      <th>No_show</th>\n",
       "    </tr>\n",
       "  </thead>\n",
       "  <tbody>\n",
       "    <tr>\n",
       "      <th>0</th>\n",
       "      <td>2.987250e+13</td>\n",
       "      <td>5642903</td>\n",
       "      <td>F</td>\n",
       "      <td>2016-04-29T18:38:08Z</td>\n",
       "      <td>2016-04-29T00:00:00Z</td>\n",
       "      <td>62</td>\n",
       "      <td>JARDIM DA PENHA</td>\n",
       "      <td>0</td>\n",
       "      <td>1</td>\n",
       "      <td>0</td>\n",
       "      <td>0</td>\n",
       "      <td>0</td>\n",
       "      <td>0</td>\n",
       "      <td>No</td>\n",
       "    </tr>\n",
       "    <tr>\n",
       "      <th>1</th>\n",
       "      <td>5.589978e+14</td>\n",
       "      <td>5642503</td>\n",
       "      <td>M</td>\n",
       "      <td>2016-04-29T16:08:27Z</td>\n",
       "      <td>2016-04-29T00:00:00Z</td>\n",
       "      <td>56</td>\n",
       "      <td>JARDIM DA PENHA</td>\n",
       "      <td>0</td>\n",
       "      <td>0</td>\n",
       "      <td>0</td>\n",
       "      <td>0</td>\n",
       "      <td>0</td>\n",
       "      <td>0</td>\n",
       "      <td>No</td>\n",
       "    </tr>\n",
       "    <tr>\n",
       "      <th>2</th>\n",
       "      <td>4.262962e+12</td>\n",
       "      <td>5642549</td>\n",
       "      <td>F</td>\n",
       "      <td>2016-04-29T16:19:04Z</td>\n",
       "      <td>2016-04-29T00:00:00Z</td>\n",
       "      <td>62</td>\n",
       "      <td>MATA DA PRAIA</td>\n",
       "      <td>0</td>\n",
       "      <td>0</td>\n",
       "      <td>0</td>\n",
       "      <td>0</td>\n",
       "      <td>0</td>\n",
       "      <td>0</td>\n",
       "      <td>No</td>\n",
       "    </tr>\n",
       "    <tr>\n",
       "      <th>3</th>\n",
       "      <td>8.679512e+11</td>\n",
       "      <td>5642828</td>\n",
       "      <td>F</td>\n",
       "      <td>2016-04-29T17:29:31Z</td>\n",
       "      <td>2016-04-29T00:00:00Z</td>\n",
       "      <td>8</td>\n",
       "      <td>PONTAL DE CAMBURI</td>\n",
       "      <td>0</td>\n",
       "      <td>0</td>\n",
       "      <td>0</td>\n",
       "      <td>0</td>\n",
       "      <td>0</td>\n",
       "      <td>0</td>\n",
       "      <td>No</td>\n",
       "    </tr>\n",
       "    <tr>\n",
       "      <th>4</th>\n",
       "      <td>8.841186e+12</td>\n",
       "      <td>5642494</td>\n",
       "      <td>F</td>\n",
       "      <td>2016-04-29T16:07:23Z</td>\n",
       "      <td>2016-04-29T00:00:00Z</td>\n",
       "      <td>56</td>\n",
       "      <td>JARDIM DA PENHA</td>\n",
       "      <td>0</td>\n",
       "      <td>1</td>\n",
       "      <td>1</td>\n",
       "      <td>0</td>\n",
       "      <td>0</td>\n",
       "      <td>0</td>\n",
       "      <td>No</td>\n",
       "    </tr>\n",
       "  </tbody>\n",
       "</table>\n",
       "</div>"
      ],
      "text/plain": [
       "      PatientId  AppointmentID Gender          ScheduledDay  \\\n",
       "0  2.987250e+13        5642903      F  2016-04-29T18:38:08Z   \n",
       "1  5.589978e+14        5642503      M  2016-04-29T16:08:27Z   \n",
       "2  4.262962e+12        5642549      F  2016-04-29T16:19:04Z   \n",
       "3  8.679512e+11        5642828      F  2016-04-29T17:29:31Z   \n",
       "4  8.841186e+12        5642494      F  2016-04-29T16:07:23Z   \n",
       "\n",
       "         AppointmentDay  Age      Neighbourhood  Scholarship  Hypertension  \\\n",
       "0  2016-04-29T00:00:00Z   62    JARDIM DA PENHA            0             1   \n",
       "1  2016-04-29T00:00:00Z   56    JARDIM DA PENHA            0             0   \n",
       "2  2016-04-29T00:00:00Z   62      MATA DA PRAIA            0             0   \n",
       "3  2016-04-29T00:00:00Z    8  PONTAL DE CAMBURI            0             0   \n",
       "4  2016-04-29T00:00:00Z   56    JARDIM DA PENHA            0             1   \n",
       "\n",
       "   Diabetes  Alcoholism  handicapped  SMS_received No_show  \n",
       "0         0           0            0             0      No  \n",
       "1         0           0            0             0      No  \n",
       "2         0           0            0             0      No  \n",
       "3         0           0            0             0      No  \n",
       "4         1           0            0             0      No  "
      ]
     },
     "execution_count": 14,
     "metadata": {},
     "output_type": "execute_result"
    }
   ],
   "source": [
    "\n",
    "df1_clean.head()"
   ]
  },
  {
   "cell_type": "markdown",
   "metadata": {
    "slideshow": {
     "slide_type": "skip"
    }
   },
   "source": [
    "#### Define\n",
    "* Age of -1 is inaccurate ."
   ]
  },
  {
   "cell_type": "markdown",
   "metadata": {
    "slideshow": {
     "slide_type": "skip"
    }
   },
   "source": [
    "#### Code"
   ]
  },
  {
   "cell_type": "code",
   "execution_count": 15,
   "metadata": {
    "slideshow": {
     "slide_type": "skip"
    }
   },
   "outputs": [],
   "source": [
    "## drop the row contain age -1\n",
    "df1_clean = df1_clean.loc[df1_clean['Age'] >= 0]"
   ]
  },
  {
   "cell_type": "markdown",
   "metadata": {
    "slideshow": {
     "slide_type": "skip"
    }
   },
   "source": [
    "#### Test"
   ]
  },
  {
   "cell_type": "code",
   "execution_count": 16,
   "metadata": {
    "scrolled": true,
    "slideshow": {
     "slide_type": "skip"
    }
   },
   "outputs": [
    {
     "data": {
      "text/html": [
       "<div>\n",
       "<style scoped>\n",
       "    .dataframe tbody tr th:only-of-type {\n",
       "        vertical-align: middle;\n",
       "    }\n",
       "\n",
       "    .dataframe tbody tr th {\n",
       "        vertical-align: top;\n",
       "    }\n",
       "\n",
       "    .dataframe thead th {\n",
       "        text-align: right;\n",
       "    }\n",
       "</style>\n",
       "<table border=\"1\" class=\"dataframe\">\n",
       "  <thead>\n",
       "    <tr style=\"text-align: right;\">\n",
       "      <th></th>\n",
       "      <th>PatientId</th>\n",
       "      <th>AppointmentID</th>\n",
       "      <th>Gender</th>\n",
       "      <th>ScheduledDay</th>\n",
       "      <th>AppointmentDay</th>\n",
       "      <th>Age</th>\n",
       "      <th>Neighbourhood</th>\n",
       "      <th>Scholarship</th>\n",
       "      <th>Hypertension</th>\n",
       "      <th>Diabetes</th>\n",
       "      <th>Alcoholism</th>\n",
       "      <th>handicapped</th>\n",
       "      <th>SMS_received</th>\n",
       "      <th>No_show</th>\n",
       "    </tr>\n",
       "  </thead>\n",
       "  <tbody>\n",
       "  </tbody>\n",
       "</table>\n",
       "</div>"
      ],
      "text/plain": [
       "Empty DataFrame\n",
       "Columns: [PatientId, AppointmentID, Gender, ScheduledDay, AppointmentDay, Age, Neighbourhood, Scholarship, Hypertension, Diabetes, Alcoholism, handicapped, SMS_received, No_show]\n",
       "Index: []"
      ]
     },
     "execution_count": 16,
     "metadata": {},
     "output_type": "execute_result"
    }
   ],
   "source": [
    "df1_clean.loc[df1_clean['Age'] < 0]"
   ]
  },
  {
   "cell_type": "markdown",
   "metadata": {
    "slideshow": {
     "slide_type": "skip"
    }
   },
   "source": [
    "#### Define\n",
    "* Handicap data over 1 is inaccurate ."
   ]
  },
  {
   "cell_type": "markdown",
   "metadata": {
    "slideshow": {
     "slide_type": "skip"
    }
   },
   "source": [
    "#### Code"
   ]
  },
  {
   "cell_type": "code",
   "execution_count": 17,
   "metadata": {
    "slideshow": {
     "slide_type": "skip"
    }
   },
   "outputs": [],
   "source": [
    "## replace any value above 1 with 1\n",
    "\n",
    "df1_clean['handicapped'].replace([2, 3 , 4], [1, 1,1], inplace=True)"
   ]
  },
  {
   "cell_type": "markdown",
   "metadata": {
    "slideshow": {
     "slide_type": "skip"
    }
   },
   "source": [
    "#### Test"
   ]
  },
  {
   "cell_type": "code",
   "execution_count": 18,
   "metadata": {
    "slideshow": {
     "slide_type": "skip"
    }
   },
   "outputs": [
    {
     "data": {
      "text/plain": [
       "count    110526.000000\n",
       "mean          0.020276\n",
       "std           0.140943\n",
       "min           0.000000\n",
       "25%           0.000000\n",
       "50%           0.000000\n",
       "75%           0.000000\n",
       "max           1.000000\n",
       "Name: handicapped, dtype: float64"
      ]
     },
     "execution_count": 18,
     "metadata": {},
     "output_type": "execute_result"
    }
   ],
   "source": [
    "df1_clean['handicapped'].describe()"
   ]
  },
  {
   "cell_type": "markdown",
   "metadata": {
    "slideshow": {
     "slide_type": "skip"
    }
   },
   "source": [
    "#### Define\n",
    "* Change (PatientId) Column type to int64.\n",
    "* Change (Gender ,Neighbourhood ) Columns type to Category.\n",
    "* Change (ScheduledDay ,AppointmentDay) Columns type to datetime.  \n",
    "* Change (Scholarship ,Hypertension ,Diabetes ,Alcoholism ,handicapped ,SMS_received ) Columns type to bool."
   ]
  },
  {
   "cell_type": "markdown",
   "metadata": {
    "slideshow": {
     "slide_type": "skip"
    }
   },
   "source": [
    "#### Code"
   ]
  },
  {
   "cell_type": "code",
   "execution_count": 19,
   "metadata": {
    "slideshow": {
     "slide_type": "skip"
    }
   },
   "outputs": [],
   "source": [
    "## Change the type of columns\n",
    "convert_dict = {'PatientId': 'int64',\n",
    "                'Gender': 'category',\n",
    "                'Neighbourhood': 'category',\n",
    "                'ScheduledDay': 'datetime64',\n",
    "                'AppointmentDay': 'datetime64',\n",
    "                'Scholarship': bool,\n",
    "                'Hypertension': bool,\n",
    "                'Diabetes': bool,\n",
    "                'Alcoholism': bool,\n",
    "                'handicapped': bool,\n",
    "                'SMS_received': bool,\n",
    "            \n",
    "               }\n",
    "  \n",
    "df1_clean = df1_clean.astype(convert_dict)"
   ]
  },
  {
   "cell_type": "markdown",
   "metadata": {
    "slideshow": {
     "slide_type": "skip"
    }
   },
   "source": [
    "#### Test"
   ]
  },
  {
   "cell_type": "code",
   "execution_count": 20,
   "metadata": {
    "slideshow": {
     "slide_type": "skip"
    }
   },
   "outputs": [
    {
     "name": "stdout",
     "output_type": "stream",
     "text": [
      "<class 'pandas.core.frame.DataFrame'>\n",
      "Int64Index: 110526 entries, 0 to 110526\n",
      "Data columns (total 14 columns):\n",
      " #   Column          Non-Null Count   Dtype         \n",
      "---  ------          --------------   -----         \n",
      " 0   PatientId       110526 non-null  int64         \n",
      " 1   AppointmentID   110526 non-null  int64         \n",
      " 2   Gender          110526 non-null  category      \n",
      " 3   ScheduledDay    110526 non-null  datetime64[ns]\n",
      " 4   AppointmentDay  110526 non-null  datetime64[ns]\n",
      " 5   Age             110526 non-null  int64         \n",
      " 6   Neighbourhood   110526 non-null  category      \n",
      " 7   Scholarship     110526 non-null  bool          \n",
      " 8   Hypertension    110526 non-null  bool          \n",
      " 9   Diabetes        110526 non-null  bool          \n",
      " 10  Alcoholism      110526 non-null  bool          \n",
      " 11  handicapped     110526 non-null  bool          \n",
      " 12  SMS_received    110526 non-null  bool          \n",
      " 13  No_show         110526 non-null  object        \n",
      "dtypes: bool(6), category(2), datetime64[ns](2), int64(3), object(1)\n",
      "memory usage: 6.7+ MB\n"
     ]
    }
   ],
   "source": [
    "df1_clean.info()"
   ]
  },
  {
   "cell_type": "markdown",
   "metadata": {
    "slideshow": {
     "slide_type": "slide"
    }
   },
   "source": [
    "<a id='eda'></a>\n",
    "## Exploratory Data Analysis"
   ]
  },
  {
   "cell_type": "markdown",
   "metadata": {
    "slideshow": {
     "slide_type": "slide"
    }
   },
   "source": [
    "### Show (No) Vs. No-Show(yes) in appointments in Brazil!\n",
    "### We have 88207 attend the appointment and 22319 didn't attend"
   ]
  },
  {
   "cell_type": "code",
   "execution_count": 21,
   "metadata": {
    "slideshow": {
     "slide_type": "subslide"
    }
   },
   "outputs": [
    {
     "data": {
      "text/plain": [
       "Text(0, 0.5, 'Count')"
      ]
     },
     "execution_count": 21,
     "metadata": {},
     "output_type": "execute_result"
    },
    {
     "data": {
      "image/png": "[encoded data removed]",
      "text/plain": [
       "<Figure size 720x432 with 1 Axes>"
      ]
     },
     "metadata": {},
     "output_type": "display_data"
    }
   ],
   "source": [
    "## Display show (No) & No-Show(yes) count\n",
    "data_per =df1_clean['No_show'].value_counts(ascending=False).to_frame()\n",
    "\n",
    "sns.set_style(\"whitegrid\")\n",
    "bar,ax = plt.subplots(figsize=(10,6))\n",
    "ax = sns.barplot(x=data_per.index, y='No_show', data=data_per, ci=None, palette=\"muted\",orient='v', )\n",
    "ax.set_title(\"Show (No) Vs. No-Show(yes) in appointments in Brazil!\", fontsize=15)\n",
    "ax.set_xlabel (\"Show (No) Vs. No-Show(yes)\")\n",
    "ax.set_ylabel (\"Count\")\n",
    "\n"
   ]
  },
  {
   "cell_type": "markdown",
   "metadata": {
    "collapsed": true,
    "slideshow": {
     "slide_type": "slide"
    }
   },
   "source": [
    "### What Neighbourhood has the highest Show ?\n",
    "#### JARDIM CAMBURI Neighbourhood has the highest Show count with 30.9 % percentage"
   ]
  },
  {
   "cell_type": "code",
   "execution_count": 22,
   "metadata": {
    "slideshow": {
     "slide_type": "subslide"
    }
   },
   "outputs": [
    {
     "data": {
      "image/png": "[encoded data removed]",
      "text/plain": [
       "<Figure size 432x360 with 1 Axes>"
      ]
     },
     "metadata": {},
     "output_type": "display_data"
    }
   ],
   "source": [
    "## Display Neighbourhood has the highest Show count\n",
    "No_show = df1_clean.loc[df1_clean['No_show'] == 'No']\n",
    "z = No_show.groupby(['Neighbourhood'])['No_show'].count().nlargest(5)\n",
    "\n",
    "\n",
    "pie, ax = plt.subplots(figsize=[6,5])\n",
    "labels = z.keys()\n",
    "plt.pie(x=z, autopct=\"%.1f%%\", explode=[0.02]*5, labels=labels, pctdistance=0.5)\n",
    "plt.title(\"Neighbourhoods has the highest Show count\", fontsize=14);\n"
   ]
  },
  {
   "cell_type": "markdown",
   "metadata": {
    "slideshow": {
     "slide_type": "slide"
    }
   },
   "source": [
    "### In the highest Neighbourhood that has the highest Show ,What is the gender that has the highest Show?\n",
    "#### Females has 4147 show highrer than males that has 2105 show"
   ]
  },
  {
   "cell_type": "code",
   "execution_count": 23,
   "metadata": {
    "slideshow": {
     "slide_type": "subslide"
    }
   },
   "outputs": [
    {
     "data": {
      "text/plain": [
       "Text(0, 0.5, 'Gender')"
      ]
     },
     "execution_count": 23,
     "metadata": {},
     "output_type": "execute_result"
    },
    {
     "data": {
      "image/png": "[encoded data removed]",
      "text/plain": [
       "<Figure size 720x360 with 1 Axes>"
      ]
     },
     "metadata": {},
     "output_type": "display_data"
    }
   ],
   "source": [
    "## Display the gender count of \n",
    "JARDIM_CAMBURI = No_show.loc[No_show['Neighbourhood'] == 'JARDIM CAMBURI']\n",
    "z = JARDIM_CAMBURI.groupby(['Gender'])['No_show'].value_counts(ascending=False)\n",
    "\n",
    "Neighbourhood = z.to_frame(name='Count')\n",
    "\n",
    "sns.set_style(\"whitegrid\")\n",
    "bar,ax = plt.subplots(figsize=(10,5))\n",
    "ax = sns.barplot(x=Neighbourhood.index, y=Neighbourhood.Count, data=z,orient='h' )\n",
    "ax.set_title(\"Gender that has the highest Show in JARDIM CAMBURI \", fontsize=15)\n",
    "ax.set_xlabel (\"Count\")\n",
    "ax.set_ylabel (\"Gender\")\n",
    "\n"
   ]
  },
  {
   "cell_type": "markdown",
   "metadata": {
    "slideshow": {
     "slide_type": "slide"
    }
   },
   "source": [
    "<a id='conclusions'></a>\n",
    "## Conclusions"
   ]
  },
  {
   "cell_type": "markdown",
   "metadata": {
    "slideshow": {
     "slide_type": "subslide"
    }
   },
   "source": [
    "### Limitations\n",
    "#### There may be some possible limitations in this study.\n",
    "* Reporting the area with states not Neighborhood will be more reliable for further good questions .\n",
    "* The time of the study is only in the second quarter of 2016 , this definitely affect the sample time distribution and results.\n",
    "* The age less than one year reported as zero , its better to reported by months which will help us to be related analysis for any less than one year patients researches in the future.\n",
    "\n",
    "### No-show appointments in Brazil! Conclusion Discussion.\n",
    "This dataset collects information from 100k medical appointments in Brazil!\n",
    "* I downloaded the data set from the link.\n",
    "* I imported data and libraries needed (pandas , numpy , matplotlib ,seaborn )\n",
    "* After Visaual and programatic assessment I set the quality issues which I need to clean  and I Copied the dataset.    \n",
    "* After Visual and programmatic assessment I set the quality issues which I need to clean and I Copied the dataset.\n",
    "* We have 88207 attend the appointment and 22319 didn't attend.\n",
    "* JARDIM CAMBURI Neighbourhood has the highest Show count with 30.9 % percentage\n",
    "* Females are higher than males in show in JARDIM CAMBURI .\n",
    "* at the end many thanks for reading my report.\n",
    " \n"
   ]
  },
  {
   "cell_type": "code",
   "execution_count": 24,
   "metadata": {
    "slideshow": {
     "slide_type": "skip"
    }
   },
   "outputs": [
    {
     "data": {
      "text/plain": [
       "1"
      ]
     },
     "execution_count": 24,
     "metadata": {},
     "output_type": "execute_result"
    }
   ],
   "source": [
    "from subprocess import call\n",
    "call(['python', '-m', 'nbconvert', 'Investigate_a_Dataset.ipynb'])"
   ]
  }
 ],
 "metadata": {
  "celltoolbar": "Slideshow",
  "kernelspec": {
   "display_name": "Python 3",
   "language": "python",
   "name": "python3"
  },
  "language_info": {
   "codemirror_mode": {
    "name": "ipython",
    "version": 3
   },
   "file_extension": ".py",
   "mimetype": "text/x-python",
   "name": "python",
   "nbconvert_exporter": "python",
   "pygments_lexer": "ipython3",
   "version": "3.8.5"
  }
 },
 "nbformat": 4,
 "nbformat_minor": 2
}
